{
 "cells": [
  {
   "cell_type": "markdown",
   "id": "f9d8bdb2-e064-4082-9859-4b7ae86a704d",
   "metadata": {},
   "source": [
    "# NBA Score Predictor "
   ]
  },
  {
   "cell_type": "markdown",
   "id": "9850404f-5916-43c5-9e7e-f8bbc0d1c403",
   "metadata": {},
   "source": [
    "## Step 1: Data Collection\n",
    "The URL for the website being used: https://www.basketball-reference.com/leagues/\n",
    "\n",
    "1. Get the URL page for the match schedules and result page\n",
    "2. Go through each month in the season and gather the links to the box scores (WEB SCRAPING)\n"
   ]
  },
  {
   "cell_type": "code",
   "execution_count": 3,
   "id": "cd7a48e8-9d61-44b3-9337-5ab5cbbbdcf5",
   "metadata": {},
   "outputs": [],
   "source": [
    "import os \n",
    "from bs4 import BeautifulSoup # Help Parse HTML and Extract Information from it\n",
    "from playwright.async_api import async_playwright, TimeoutError as PlaywrightTimeout\n",
    "import time "
   ]
  },
  {
   "cell_type": "code",
   "execution_count": 6,
   "id": "f9cc52ba-632c-4f62-9a09-7d8b489ba0de",
   "metadata": {},
   "outputs": [],
   "source": [
    "!playwright install"
   ]
  },
  {
   "cell_type": "code",
   "execution_count": 4,
   "id": "3086b3c0-11cf-46da-bd4c-2d042229a26e",
   "metadata": {},
   "outputs": [],
   "source": [
    "SEASONS  = list(range(2016,2025)) ## Create a list of years to scrape data for"
   ]
  },
  {
   "cell_type": "code",
   "execution_count": 5,
   "id": "6ddf8588-a00f-4651-af3e-69375119c69f",
   "metadata": {},
   "outputs": [],
   "source": [
    "# Referencing these directories later\n",
    "\n",
    "data_dir = \"data\" \n",
    "standings_dir = os.path.join(data_dir, \"Standings\") # Information scraped that will list all the box scores\n",
    "scores_dir = os.path.join(data_dir, \"Scores\") # Directory to score all the box scores"
   ]
  },
  {
   "cell_type": "code",
   "execution_count": null,
   "id": "fcf94b1d-cfee-4e8f-962c-174a32330308",
   "metadata": {},
   "outputs": [],
   "source": [
    "# Defining a function that takes a URL and a selector to grab the HTML from a part of the web pages\n",
    "\n",
    "# 1. Function to get HTML\n",
    "\n",
    "async def get_html(url, selector, sleep=3, retries=3): ## async because playwright works asynchronously because it opens a web browser which takes time \n",
    "    html = None\n",
    "    for i in range(1,retries+1):\n",
    "        time.sleep(sleep * 1) # To prevent scraping too fast to prevent bans from server by pausing the program for a few sleep * i seconds\n",
    "\n",
    "        try:\n",
    "            async with async_playwright() as p:\n",
    "                browser = await p.chromium.launch()  # Chromium is open the open-source version of Chrome\n",
    "                page = await browser.new_page() # Create a new tab in browser\n",
    "                await page.goto(url) # Sending url of the page to scrape\n",
    "                print(await page.title()) \n",
    "                html = await page.inner_html(selector) # Grab the HTML by passing a selector selecting only a piece of the HTML\n",
    "        except PlaywrightTimeout:\n",
    "            print(f\"Timeout error on {url}\")\n",
    "            continue   ## Go back and try again\n",
    "        else:\n",
    "            break\n",
    "    return html\n"
   ]
  },
  {
   "cell_type": "markdown",
   "id": "bf2214e1-f089-4f9c-aa1c-3d00b82c936d",
   "metadata": {},
   "source": [
    "# Parsing NBA Standings Using BeautifulSoup"
   ]
  },
  {
   "cell_type": "code",
   "execution_count": 7,
   "id": "5ad2a91a-cd60-4ba1-a2ca-6300948c7abb",
   "metadata": {},
   "outputs": [],
   "source": [
    "# Start Writing Code to Scrape the Web Page\n",
    "\n",
    "# 1. Get the list of months in the season\n",
    "\n",
    "async def scrape_season(season):\n",
    "    url = f\"https://www.basketball-reference.com/leagues/NBA_{season}_games.html\"\n",
    "    html = await get_html(url, \"#content .filter\") # CSS Selector ## Scraped all the HTML anchor tags needed \n",
    "\n",
    "    # Gather all the anchor tags and grabbing the HREF properties from them\n",
    "    soup = BeautifulSoup(html)\n",
    "    links = soup.find_all(\"a\")\n",
    "    href = [l[\"href\"] for l in links]\n",
    "    standings_pages = [f\"https://basketball-reference.com{l}\" for l in href]\n",
    "\n",
    "    for url in standings_pages:\n",
    "        save_path = os.path.join(standings_dir, url.split(\"/\")[-1])\n",
    "        if os.path.exists(save_path):\n",
    "            continue\n",
    "\n",
    "        # Extract the table that has the individual box scores from the standng pages\n",
    "        html = await get_html(url, \"#all_schedule\")\n",
    "        with open(save_path, \"w+\") as f:   # Save the path by writing the html in save_path\n",
    "            f.write(html)\n",
    "\n",
    "    \n",
    "    "
   ]
  },
  {
   "cell_type": "code",
   "execution_count": 11,
   "id": "d7354b07-e3e0-44c7-b0e8-c90e640bf1c6",
   "metadata": {},
   "outputs": [
    {
     "name": "stdout",
     "output_type": "stream",
     "text": [
      "2015-16 NBA Schedule | Basketball-Reference.com\n",
      "2016-17 NBA Schedule | Basketball-Reference.com\n",
      "2017-18 NBA Schedule | Basketball-Reference.com\n",
      "2018-19 NBA Schedule | Basketball-Reference.com\n",
      "2019-20 NBA Schedule | Basketball-Reference.com\n",
      "2020-21 NBA Schedule | Basketball-Reference.com\n",
      "2021-22 NBA Schedule | Basketball-Reference.com\n",
      "2022-23 NBA Schedule | Basketball-Reference.com\n",
      "2023-24 NBA Schedule | Basketball-Reference.com\n"
     ]
    }
   ],
   "source": [
    "for season in SEASONS:\n",
    "    await scrape_season(season) # Scrape for each season. ENSURING THAT SCARPING ONE SEASON IS DONE BEFORE MOVING ONTO THE NEXT ONE"
   ]
  },
  {
   "cell_type": "markdown",
   "id": "b621f4c2-3586-4db0-aba6-6b208341a1c9",
   "metadata": {},
   "source": [
    "# Parsing Box Score Links and Downloading Box Scores With BeautifulSoup"
   ]
  },
  {
   "cell_type": "code",
   "execution_count": 8,
   "id": "0a78fd84-9eb6-42ea-98cb-d54519700fa6",
   "metadata": {},
   "outputs": [],
   "source": [
    "standings_files = os.listdir(standings_dir) # Lists all the files in the Directory"
   ]
  },
  {
   "cell_type": "code",
   "execution_count": 9,
   "id": "fa9d5ce1-7c27-46b5-b9f4-f539ee133359",
   "metadata": {},
   "outputs": [],
   "source": [
    "# Function to scrape a single standings file and save all the box scores inside the table\n",
    "\n",
    "async def scrape_game(standings_file):\n",
    "    with open(standings_file, \"r\") as f:\n",
    "        html = f.read()\n",
    "\n",
    "    soup = BeautifulSoup(html)\n",
    "    links = soup.find_all(\"a\")\n",
    "   \n",
    "    #links # Some contain youtube links, Team pages and etc\n",
    "    #Filter out to get Box Score URLs\n",
    "\n",
    "    hrefs = [l.get(\"href\") for l in links]\n",
    "    box_scores = [l for l in hrefs if l and \"boxscore\" in l and \".html\" in l]\n",
    "    box_scores = [f\"https://www.basketball-reference.com{l}\" for l in box_scores]\n",
    "\n",
    "\n",
    "    # DOWNLOADING BOX SCORES WITH PLAYWRIGHT\n",
    "    for url in box_scores:\n",
    "        save_path = os.path.join(scores_dir, url.split(\"/\")[-1]) # Grabbing last part of the URL\n",
    "        if os.path.exists(save_path):\n",
    "            continue\n",
    "\n",
    "        html = await get_html(url, \"#content\")\n",
    "        if not html:\n",
    "            continue\n",
    "        with open(save_path, \"w+\") as f:\n",
    "            f.write(html)"
   ]
  },
  {
   "cell_type": "code",
   "execution_count": null,
   "id": "af47b5d5-4f81-4401-bdc8-633d69ee52ac",
   "metadata": {},
   "outputs": [],
   "source": [
    "standings_files = [s for s in standings_files if \".html\" in s]\n",
    "\n",
    "for f in standings_files:\n",
    "    filepath = os.path.join(standings_dir, f)\n",
    "\n",
    "    await scrape_game(filepath)"
   ]
  },
  {
   "cell_type": "code",
   "execution_count": null,
   "id": "29c5b7e5-34d2-4876-9b31-3ccb77d6fbbe",
   "metadata": {},
   "outputs": [],
   "source": [
    "print(\"Done\")"
   ]
  }
 ],
 "metadata": {
  "kernelspec": {
   "display_name": "Python 3 (ipykernel)",
   "language": "python",
   "name": "python3"
  },
  "language_info": {
   "codemirror_mode": {
    "name": "ipython",
    "version": 3
   },
   "file_extension": ".py",
   "mimetype": "text/x-python",
   "name": "python",
   "nbconvert_exporter": "python",
   "pygments_lexer": "ipython3",
   "version": "3.12.4"
  }
 },
 "nbformat": 4,
 "nbformat_minor": 5
}
